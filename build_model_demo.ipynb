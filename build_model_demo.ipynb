{
 "cells": [
  {
   "cell_type": "markdown",
   "metadata": {},
   "source": [
    "# Build Model on IMDB data\n",
    "- The processing steps and trained models are saved to be persistent for model deployment.\n",
    "- The model in this notebook is only for presenting end-to-end pipeline purpose. More sophisticated model with hyperparameter optimization is not covered here."
   ]
  },
  {
   "cell_type": "markdown",
   "metadata": {},
   "source": [
    "## Load IMDB data"
   ]
  },
  {
   "cell_type": "code",
   "execution_count": 1,
   "metadata": {},
   "outputs": [],
   "source": [
    "from src import imdbdata"
   ]
  },
  {
   "cell_type": "code",
   "execution_count": 2,
   "metadata": {},
   "outputs": [],
   "source": [
    "train_data, train_label, test_data, test_label = imdbdata.get_imdb_raw()"
   ]
  },
  {
   "cell_type": "code",
   "execution_count": 3,
   "metadata": {},
   "outputs": [
    {
     "data": {
      "text/plain": [
       "list"
      ]
     },
     "execution_count": 3,
     "metadata": {},
     "output_type": "execute_result"
    }
   ],
   "source": [
    "type(train_data)"
   ]
  },
  {
   "cell_type": "code",
   "execution_count": 4,
   "metadata": {},
   "outputs": [
    {
     "data": {
      "text/plain": [
       "[\"This movie is Jackie's best. I still cant get enough of watching some of his best stunts ever. I also like the bad guys in this movie (the old man looks like a Chinese version of John Howard). Unlike some of Jackie's other work, this movie has also got a great story line and i recommend it to all of Jackie's fans.\",\n",
       " 'a bit slow and boring, the tale of an old man and his wife living a delapidated building and interacting with a fixed cast of characters like the mailman, the brothers sitting on the porch, the wealthy cigar smoking man. The photography of the river is marvelous, as is the interior period decoration. If you like decoration of Banana Republic stores, this is a must.']"
      ]
     },
     "execution_count": 4,
     "metadata": {},
     "output_type": "execute_result"
    }
   ],
   "source": [
    "train_data[:2]"
   ]
  },
  {
   "cell_type": "markdown",
   "metadata": {},
   "source": [
    "## Simple text processing"
   ]
  },
  {
   "cell_type": "code",
   "execution_count": 5,
   "metadata": {},
   "outputs": [],
   "source": [
    "from src import textproc"
   ]
  },
  {
   "cell_type": "code",
   "execution_count": 6,
   "metadata": {},
   "outputs": [],
   "source": [
    "mytextproc = textproc.TextProc(train_data)"
   ]
  },
  {
   "cell_type": "code",
   "execution_count": 7,
   "metadata": {},
   "outputs": [
    {
     "data": {
      "text/plain": [
       "'train'"
      ]
     },
     "execution_count": 7,
     "metadata": {},
     "output_type": "execute_result"
    }
   ],
   "source": [
    "mytextproc.mode"
   ]
  },
  {
   "cell_type": "code",
   "execution_count": 8,
   "metadata": {},
   "outputs": [],
   "source": [
    "top_num = 10000\n",
    "train_word_processed, selected_word = mytextproc.process(top_num=top_num)"
   ]
  },
  {
   "cell_type": "code",
   "execution_count": 9,
   "metadata": {},
   "outputs": [
    {
     "data": {
      "text/plain": [
       "[['movie',\n",
       "  'jackie',\n",
       "  'good',\n",
       "  'not',\n",
       "  'watch',\n",
       "  'good',\n",
       "  'stunt',\n",
       "  'like',\n",
       "  'bad',\n",
       "  'guy',\n",
       "  'movie',\n",
       "  'old',\n",
       "  'man',\n",
       "  'look',\n",
       "  'like',\n",
       "  'chinese',\n",
       "  'version',\n",
       "  'john',\n",
       "  'howard',\n",
       "  'unlike',\n",
       "  'jackie',\n",
       "  'work',\n",
       "  'movie',\n",
       "  'get',\n",
       "  'great',\n",
       "  'story',\n",
       "  'line',\n",
       "  'recommend',\n",
       "  'jackie',\n",
       "  'fan'],\n",
       " ['bit',\n",
       "  'slow',\n",
       "  'boring',\n",
       "  'tale',\n",
       "  'old',\n",
       "  'man',\n",
       "  'wife',\n",
       "  'live',\n",
       "  'building',\n",
       "  'interact',\n",
       "  'fix',\n",
       "  'cast',\n",
       "  'character',\n",
       "  'like',\n",
       "  'brother',\n",
       "  'sit',\n",
       "  'wealthy',\n",
       "  'cigar',\n",
       "  'smoking',\n",
       "  'man',\n",
       "  'photography',\n",
       "  'river',\n",
       "  'marvelous',\n",
       "  'interior',\n",
       "  'period',\n",
       "  'decoration',\n",
       "  'like',\n",
       "  'decoration',\n",
       "  'banana',\n",
       "  'republic',\n",
       "  'store']]"
      ]
     },
     "execution_count": 9,
     "metadata": {},
     "output_type": "execute_result"
    }
   ],
   "source": [
    "train_word_processed[:2]"
   ]
  },
  {
   "cell_type": "markdown",
   "metadata": {},
   "source": [
    "### Apply same processing steps to test data"
   ]
  },
  {
   "cell_type": "code",
   "execution_count": 10,
   "metadata": {},
   "outputs": [
    {
     "name": "stdout",
     "output_type": "stream",
     "text": [
      "mode eval\n"
     ]
    }
   ],
   "source": [
    "mytextproc.evalmode()\n",
    "print('mode {}'.format(mytextproc.mode))\n",
    "test_word_processed, selected_word = mytextproc.process(text_corpus=test_data)"
   ]
  },
  {
   "cell_type": "markdown",
   "metadata": {},
   "source": [
    "## Save text processor"
   ]
  },
  {
   "cell_type": "code",
   "execution_count": 11,
   "metadata": {},
   "outputs": [],
   "source": [
    "# mytextproc.save_wcount('./savedspace/torchfullnet/textproc.json')"
   ]
  },
  {
   "cell_type": "markdown",
   "metadata": {},
   "source": [
    "## Encode text"
   ]
  },
  {
   "cell_type": "code",
   "execution_count": 12,
   "metadata": {},
   "outputs": [],
   "source": [
    "from src import textencoder\n",
    "word_encoder = textencoder.OneHotEncoder(selected_word)\n",
    "train_encoded = word_encoder.encode(train_word_processed)\n",
    "test_encoded = word_encoder.encode(test_word_processed)"
   ]
  },
  {
   "cell_type": "markdown",
   "metadata": {},
   "source": [
    "### Split data for model fitting and validation"
   ]
  },
  {
   "cell_type": "code",
   "execution_count": 13,
   "metadata": {},
   "outputs": [],
   "source": [
    "from src import helper\n",
    "fit_encoded, fit_labels, val_encoded, val_labels = helper.random_split(train_encoded, train_label)"
   ]
  },
  {
   "cell_type": "code",
   "execution_count": 14,
   "metadata": {},
   "outputs": [
    {
     "name": "stdout",
     "output_type": "stream",
     "text": [
      "(17500, 10001)\n"
     ]
    }
   ],
   "source": [
    "print(fit_encoded.shape)"
   ]
  },
  {
   "cell_type": "markdown",
   "metadata": {},
   "source": [
    "### Train model"
   ]
  },
  {
   "cell_type": "code",
   "execution_count": 15,
   "metadata": {},
   "outputs": [],
   "source": [
    "from src import torchnet\n",
    "from torch.utils.data import DataLoader\n",
    "fit_torchdata = torchnet.InMemTorchData(fit_encoded, fit_labels)\n",
    "fit_dataloader = DataLoader(fit_torchdata, batch_size = 12, shuffle=True)"
   ]
  },
  {
   "cell_type": "code",
   "execution_count": 16,
   "metadata": {},
   "outputs": [],
   "source": [
    "import logging\n",
    "from torch import optim\n",
    "logging.basicConfig(level=logging.DEBUG)\n",
    "fullnet = torchnet.FullNet('relu', fit_encoded.shape[1], 12, 8, 1)\n",
    "optimizer = optim.RMSprop(fullnet.parameters(), lr=0.01)"
   ]
  },
  {
   "cell_type": "markdown",
   "metadata": {},
   "source": [
    "### Train model with validation results for 10 epochs"
   ]
  },
  {
   "cell_type": "code",
   "execution_count": 17,
   "metadata": {},
   "outputs": [
    {
     "name": "stderr",
     "output_type": "stream",
     "text": [
      "DEBUG:src.torchnet:Epoch 0 starts\n",
      "DEBUG:src.torchnet:Metric rocauc on validation: 0.9425978115384536\n",
      "DEBUG:src.torchnet:loss on validation: 0.3076963722705841\n",
      "DEBUG:src.torchnet:Epoch 1 starts\n",
      "DEBUG:src.torchnet:Metric rocauc on validation: 0.9395301080761522\n",
      "DEBUG:src.torchnet:loss on validation: 0.3207019567489624\n",
      "DEBUG:src.torchnet:Epoch 2 starts\n",
      "DEBUG:src.torchnet:Metric rocauc on validation: 0.9352360201594991\n",
      "DEBUG:src.torchnet:loss on validation: 0.4505166709423065\n",
      "DEBUG:src.torchnet:Epoch 3 starts\n",
      "DEBUG:src.torchnet:Metric rocauc on validation: 0.9282337880615651\n",
      "DEBUG:src.torchnet:loss on validation: 0.6330882906913757\n",
      "DEBUG:src.torchnet:Epoch 4 starts\n",
      "DEBUG:src.torchnet:Metric rocauc on validation: 0.9231131262676758\n",
      "DEBUG:src.torchnet:loss on validation: 0.7683960199356079\n",
      "DEBUG:src.torchnet:Epoch 5 starts\n",
      "DEBUG:src.torchnet:Metric rocauc on validation: 0.9203694244043323\n",
      "DEBUG:src.torchnet:loss on validation: 1.058332085609436\n",
      "DEBUG:src.torchnet:Epoch 6 starts\n",
      "DEBUG:src.torchnet:Metric rocauc on validation: 0.9152026442968073\n",
      "DEBUG:src.torchnet:loss on validation: 1.2638427019119263\n",
      "DEBUG:src.torchnet:Epoch 7 starts\n",
      "DEBUG:src.torchnet:Metric rocauc on validation: 0.9150423502660675\n",
      "DEBUG:src.torchnet:loss on validation: 1.4613703489303589\n",
      "DEBUG:src.torchnet:Epoch 8 starts\n",
      "DEBUG:src.torchnet:Metric rocauc on validation: 0.9180620152999016\n",
      "DEBUG:src.torchnet:loss on validation: 1.466454267501831\n",
      "DEBUG:src.torchnet:Epoch 9 starts\n",
      "DEBUG:src.torchnet:Metric rocauc on validation: 0.9161879832244545\n",
      "DEBUG:src.torchnet:loss on validation: 1.5525388717651367\n"
     ]
    },
    {
     "data": {
      "text/plain": [
       "([0.9425978115384536,\n",
       "  0.9395301080761522,\n",
       "  0.9352360201594991,\n",
       "  0.9282337880615651,\n",
       "  0.9231131262676758,\n",
       "  0.9203694244043323,\n",
       "  0.9152026442968073,\n",
       "  0.9150423502660675,\n",
       "  0.9180620152999016,\n",
       "  0.9161879832244545],\n",
       " [0.3076963722705841,\n",
       "  0.3207019567489624,\n",
       "  0.4505166709423065,\n",
       "  0.6330882906913757,\n",
       "  0.7683960199356079,\n",
       "  1.058332085609436,\n",
       "  1.2638427019119263,\n",
       "  1.4613703489303589,\n",
       "  1.466454267501831,\n",
       "  1.5525388717651367])"
      ]
     },
     "execution_count": 17,
     "metadata": {},
     "output_type": "execute_result"
    }
   ],
   "source": [
    "torchnet.train_bclassif(fullnet, optimizer, epoch_num=10, fit_dataloader=fit_dataloader, \n",
    "                        val_data=val_encoded, val_label=val_labels)"
   ]
  },
  {
   "cell_type": "markdown",
   "metadata": {},
   "source": [
    "### Retrain model with 1 epoch\n",
    "- The validation results in 10 epochs show that 1 epoch is sufficient\n",
    "- More sophisticated hyperparameter optimization should be considered if targeting at building more accurate models"
   ]
  },
  {
   "cell_type": "code",
   "execution_count": 18,
   "metadata": {},
   "outputs": [],
   "source": [
    "fullnet = torchnet.FullNet('relu', fit_encoded.shape[1], 12, 8, 1)\n",
    "optimizer = optim.RMSprop(fullnet.parameters(), lr=0.01)"
   ]
  },
  {
   "cell_type": "code",
   "execution_count": 19,
   "metadata": {},
   "outputs": [
    {
     "name": "stderr",
     "output_type": "stream",
     "text": [
      "DEBUG:src.torchnet:Epoch 0 starts\n",
      "DEBUG:src.torchnet:Metric rocauc on validation: 0.9381358913624631\n",
      "DEBUG:src.torchnet:loss on validation: 0.3743900954723358\n"
     ]
    },
    {
     "data": {
      "text/plain": [
       "([0.9381358913624631], [0.3743900954723358])"
      ]
     },
     "execution_count": 19,
     "metadata": {},
     "output_type": "execute_result"
    }
   ],
   "source": [
    "torchnet.train_bclassif(fullnet, optimizer, epoch_num=1, fit_dataloader=fit_dataloader, \n",
    "                        val_data=val_encoded, val_label=val_labels)"
   ]
  },
  {
   "cell_type": "markdown",
   "metadata": {},
   "source": [
    "### Model evaluation on test data"
   ]
  },
  {
   "cell_type": "code",
   "execution_count": 20,
   "metadata": {},
   "outputs": [
    {
     "data": {
      "text/plain": [
       "(0.9303255424000001, None)"
      ]
     },
     "execution_count": 20,
     "metadata": {},
     "output_type": "execute_result"
    }
   ],
   "source": [
    "torchnet.eval_model(fullnet, test_encoded, test_label, metric_type='rocauc')"
   ]
  },
  {
   "cell_type": "markdown",
   "metadata": {},
   "source": [
    "### Save trained models"
   ]
  },
  {
   "cell_type": "code",
   "execution_count": 21,
   "metadata": {},
   "outputs": [],
   "source": [
    "# fullnet.save_modeltopology('./savedspace/torchfullnet/imdb_fullnet_topology.json')\n",
    "# fullnet.save_model_weights('./savedspace/torchfullnet/imdb_fullnet_weights.pt')"
   ]
  },
  {
   "cell_type": "markdown",
   "metadata": {},
   "source": [
    "# Reload data processing steps and trained models\n",
    "- It demos how to reload the saved processor and model to make predictions."
   ]
  },
  {
   "cell_type": "markdown",
   "metadata": {},
   "source": [
    "## Load text proc "
   ]
  },
  {
   "cell_type": "code",
   "execution_count": 22,
   "metadata": {},
   "outputs": [],
   "source": [
    "from src import textproc\n",
    "loaded_textproc = textproc.TextProc.from_load_wcount_pair('./savedspace/torchfullnet/textproc.json')"
   ]
  },
  {
   "cell_type": "markdown",
   "metadata": {},
   "source": [
    "## Load trained model"
   ]
  },
  {
   "cell_type": "code",
   "execution_count": 23,
   "metadata": {},
   "outputs": [],
   "source": [
    "from src import torchnet\n",
    "fullnet = torchnet.FullNet.from_modeltopology('./savedspace/torchfullnet/imdb_fullnet_topology.json')\n",
    "fullnet.load_model_weights('./savedspace/torchfullnet/imdb_fullnet_weights.pt')\n",
    "fullnet = fullnet.eval()"
   ]
  },
  {
   "cell_type": "markdown",
   "metadata": {},
   "source": [
    "## Make prediction"
   ]
  },
  {
   "cell_type": "code",
   "execution_count": 24,
   "metadata": {},
   "outputs": [],
   "source": [
    "from src import textencoder\n",
    "review_text = ['Movie is perfect, worth watching again.',\n",
    "              'Movie is good, worth watching again.',\n",
    "              'Movie is fabulous, worth watching again.']\n",
    "\n",
    "# text processing and encoding\n",
    "review_text_processed, selected_word = loaded_textproc.process(text_corpus=review_text)\n",
    "word_encoder = textencoder.OneHotEncoder(selected_word)\n",
    "review_text_encoded = word_encoder.encode(review_text_processed)"
   ]
  },
  {
   "cell_type": "code",
   "execution_count": 25,
   "metadata": {},
   "outputs": [
    {
     "name": "stdout",
     "output_type": "stream",
     "text": [
      "tensor([[0.7316],\n",
      "        [0.6500],\n",
      "        [0.6777]])\n"
     ]
    }
   ],
   "source": [
    "import torch\n",
    "with torch.no_grad():\n",
    "    pred_vals = fullnet.prediction(review_text_encoded)\n",
    "print(pred_vals)"
   ]
  }
 ],
 "metadata": {
  "kernelspec": {
   "display_name": "tf-gpu",
   "language": "python",
   "name": "tf-gpu"
  },
  "language_info": {
   "codemirror_mode": {
    "name": "ipython",
    "version": 3
   },
   "file_extension": ".py",
   "mimetype": "text/x-python",
   "name": "python",
   "nbconvert_exporter": "python",
   "pygments_lexer": "ipython3",
   "version": "3.8.5"
  }
 },
 "nbformat": 4,
 "nbformat_minor": 4
}
